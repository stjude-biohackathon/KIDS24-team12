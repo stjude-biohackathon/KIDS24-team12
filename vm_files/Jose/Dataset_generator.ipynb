{
 "cells": [
  {
   "cell_type": "code",
   "execution_count": 1,
   "id": "a2913f51-cd26-4c6b-b3ca-893a49fd0849",
   "metadata": {},
   "outputs": [
    {
     "name": "stdout",
     "output_type": "stream",
     "text": [
      "Collecting openai\n",
      "  Downloading openai-1.43.0-py3-none-any.whl.metadata (22 kB)\n",
      "Requirement already satisfied: anyio<5,>=3.5.0 in /anaconda/envs/py38_default/lib/python3.9/site-packages (from openai) (4.2.0)\n",
      "Requirement already satisfied: distro<2,>=1.7.0 in /anaconda/envs/py38_default/lib/python3.9/site-packages (from openai) (1.9.0)\n",
      "Requirement already satisfied: httpx<1,>=0.23.0 in /anaconda/envs/py38_default/lib/python3.9/site-packages (from openai) (0.27.0)\n",
      "Collecting jiter<1,>=0.4.0 (from openai)\n",
      "  Downloading jiter-0.5.0-cp39-cp39-manylinux_2_17_x86_64.manylinux2014_x86_64.whl.metadata (3.6 kB)\n",
      "Requirement already satisfied: pydantic<3,>=1.9.0 in /anaconda/envs/py38_default/lib/python3.9/site-packages (from openai) (2.7.1)\n",
      "Requirement already satisfied: sniffio in /anaconda/envs/py38_default/lib/python3.9/site-packages (from openai) (1.3.0)\n",
      "Requirement already satisfied: tqdm>4 in /anaconda/envs/py38_default/lib/python3.9/site-packages (from openai) (4.66.5)\n",
      "Requirement already satisfied: typing-extensions<5,>=4.11 in /anaconda/envs/py38_default/lib/python3.9/site-packages (from openai) (4.11.0)\n",
      "Requirement already satisfied: idna>=2.8 in /anaconda/envs/py38_default/lib/python3.9/site-packages (from anyio<5,>=3.5.0->openai) (3.7)\n",
      "Requirement already satisfied: exceptiongroup>=1.0.2 in /anaconda/envs/py38_default/lib/python3.9/site-packages (from anyio<5,>=3.5.0->openai) (1.2.0)\n",
      "Requirement already satisfied: certifi in /anaconda/envs/py38_default/lib/python3.9/site-packages (from httpx<1,>=0.23.0->openai) (2024.2.2)\n",
      "Requirement already satisfied: httpcore==1.* in /anaconda/envs/py38_default/lib/python3.9/site-packages (from httpx<1,>=0.23.0->openai) (1.0.5)\n",
      "Requirement already satisfied: h11<0.15,>=0.13 in /anaconda/envs/py38_default/lib/python3.9/site-packages (from httpcore==1.*->httpx<1,>=0.23.0->openai) (0.14.0)\n",
      "Requirement already satisfied: annotated-types>=0.4.0 in /anaconda/envs/py38_default/lib/python3.9/site-packages (from pydantic<3,>=1.9.0->openai) (0.6.0)\n",
      "Requirement already satisfied: pydantic-core==2.18.2 in /anaconda/envs/py38_default/lib/python3.9/site-packages (from pydantic<3,>=1.9.0->openai) (2.18.2)\n",
      "Downloading openai-1.43.0-py3-none-any.whl (365 kB)\n",
      "Downloading jiter-0.5.0-cp39-cp39-manylinux_2_17_x86_64.manylinux2014_x86_64.whl (320 kB)\n",
      "Installing collected packages: jiter, openai\n",
      "Successfully installed jiter-0.5.0 openai-1.43.0\n"
     ]
    }
   ],
   "source": [
    "!pip install openai"
   ]
  },
  {
   "cell_type": "code",
   "execution_count": 13,
   "id": "1935a19b-2768-409f-8eba-b08e07093831",
   "metadata": {},
   "outputs": [],
   "source": [
    "import openai\n",
    "\n",
    "# Replace 'your-api-key' with your actual OpenAI API key\n",
    "openai.api_key = \"\"\n"
   ]
  },
  {
   "cell_type": "code",
   "execution_count": 22,
   "id": "5a46a5a6-8d58-44d7-9806-1066713c4d89",
   "metadata": {},
   "outputs": [
    {
     "name": "stdout",
     "output_type": "stream",
     "text": [
      "Requirement already satisfied: linkchecker in /anaconda/envs/py38_default/lib/python3.9/site-packages (10.5.0)\n",
      "Requirement already satisfied: beautifulsoup4>=4.8.1 in /anaconda/envs/py38_default/lib/python3.9/site-packages (from linkchecker) (4.12.2)\n",
      "Requirement already satisfied: dnspython>=2.0 in /anaconda/envs/py38_default/lib/python3.9/site-packages (from linkchecker) (2.6.1)\n",
      "Requirement already satisfied: requests>=2.20 in /anaconda/envs/py38_default/lib/python3.9/site-packages (from linkchecker) (2.32.3)\n",
      "Requirement already satisfied: soupsieve>1.2 in /anaconda/envs/py38_default/lib/python3.9/site-packages (from beautifulsoup4>=4.8.1->linkchecker) (2.5)\n",
      "Requirement already satisfied: charset-normalizer<4,>=2 in /anaconda/envs/py38_default/lib/python3.9/site-packages (from requests>=2.20->linkchecker) (2.0.4)\n",
      "Requirement already satisfied: idna<4,>=2.5 in /anaconda/envs/py38_default/lib/python3.9/site-packages (from requests>=2.20->linkchecker) (3.7)\n",
      "Requirement already satisfied: urllib3<3,>=1.21.1 in /anaconda/envs/py38_default/lib/python3.9/site-packages (from requests>=2.20->linkchecker) (2.2.1)\n",
      "Requirement already satisfied: certifi>=2017.4.17 in /anaconda/envs/py38_default/lib/python3.9/site-packages (from requests>=2.20->linkchecker) (2024.2.2)\n",
      "Requirement already satisfied: pyOpenSSL in /anaconda/envs/py38_default/lib/python3.9/site-packages (21.0.0)\n",
      "Collecting pyOpenSSL\n",
      "  Downloading pyOpenSSL-24.2.1-py3-none-any.whl.metadata (13 kB)\n",
      "Requirement already satisfied: cryptography in /anaconda/envs/py38_default/lib/python3.9/site-packages (42.0.7)\n",
      "Collecting cryptography\n",
      "  Downloading cryptography-43.0.1-cp39-abi3-manylinux_2_28_x86_64.whl.metadata (5.4 kB)\n",
      "Requirement already satisfied: cffi>=1.12 in /anaconda/envs/py38_default/lib/python3.9/site-packages (from cryptography) (1.16.0)\n",
      "Requirement already satisfied: pycparser in /anaconda/envs/py38_default/lib/python3.9/site-packages (from cffi>=1.12->cryptography) (2.21)\n",
      "Downloading pyOpenSSL-24.2.1-py3-none-any.whl (58 kB)\n",
      "Downloading cryptography-43.0.1-cp39-abi3-manylinux_2_28_x86_64.whl (4.0 MB)\n",
      "\u001b[2K   \u001b[90m━━━━━━━━━━━━━━━━━━━━━━━━━━━━━━━━━━━━━━━━\u001b[0m \u001b[32m4.0/4.0 MB\u001b[0m \u001b[31m34.1 MB/s\u001b[0m eta \u001b[36m0:00:00\u001b[0m\n",
      "\u001b[?25hInstalling collected packages: cryptography, pyOpenSSL\n",
      "  Attempting uninstall: cryptography\n",
      "    Found existing installation: cryptography 42.0.7\n",
      "    Uninstalling cryptography-42.0.7:\n",
      "      Successfully uninstalled cryptography-42.0.7\n",
      "  Attempting uninstall: pyOpenSSL\n",
      "    Found existing installation: pyOpenSSL 21.0.0\n",
      "    Uninstalling pyOpenSSL-21.0.0:\n",
      "      Successfully uninstalled pyOpenSSL-21.0.0\n",
      "Successfully installed cryptography-43.0.1 pyOpenSSL-24.2.1\n"
     ]
    }
   ],
   "source": [
    "!pip install linkchecker\n",
    "!pip install --upgrade pyOpenSSL cryptography"
   ]
  },
  {
   "cell_type": "code",
   "execution_count": 31,
   "id": "69ea7ef1-dc1a-4c9a-bc18-87d1ea266bb7",
   "metadata": {},
   "outputs": [
    {
     "name": "stdout",
     "output_type": "stream",
     "text": [
      "10 threads active,    20 links queued,    1 link in  31 URLs checked, runtime 1 seconds\n",
      "10 threads active,     2 links queued,   19 links in  31 URLs checked, runtime 6 seconds\n"
     ]
    }
   ],
   "source": [
    "!linkchecker https://support-docs.illumina.com/SW/dragen_v42/Content/SW/DRAGEN/GettingStarted_fDG.htm -v --check-extern -F text > linkcheck_output.txt\n"
   ]
  },
  {
   "cell_type": "code",
   "execution_count": null,
   "id": "8cf9c343-aafa-43a1-896b-17952361d8ec",
   "metadata": {},
   "outputs": [],
   "source": []
  },
  {
   "cell_type": "code",
   "execution_count": null,
   "id": "38c60022-5c6f-42a3-9955-0ba4f8b0c898",
   "metadata": {},
   "outputs": [],
   "source": []
  }
 ],
 "metadata": {
  "kernelspec": {
   "display_name": "py38_default",
   "language": "python",
   "name": "conda-env-py38_default-py"
  },
  "language_info": {
   "codemirror_mode": {
    "name": "ipython",
    "version": 3
   },
   "file_extension": ".py",
   "mimetype": "text/x-python",
   "name": "python",
   "nbconvert_exporter": "python",
   "pygments_lexer": "ipython3",
   "version": "3.9.15"
  }
 },
 "nbformat": 4,
 "nbformat_minor": 5
}
